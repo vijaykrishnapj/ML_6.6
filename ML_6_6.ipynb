{
  "nbformat": 4,
  "nbformat_minor": 0,
  "metadata": {
    "colab": {
      "provenance": []
    },
    "kernelspec": {
      "name": "python3",
      "display_name": "Python 3"
    },
    "language_info": {
      "name": "python"
    }
  },
  "cells": [
    {
      "cell_type": "code",
      "execution_count": 2,
      "metadata": {
        "colab": {
          "base_uri": "https://localhost:8080/"
        },
        "id": "O-sXUBNHr1US",
        "outputId": "378adcba-bb26-45cd-b38d-ae0531821066"
      },
      "outputs": [
        {
          "output_type": "stream",
          "name": "stdout",
          "text": [
            "(34857, 19)\n",
            "(34857,)\n",
            "(34854, 19)\n",
            "(34854,)\n",
            "Total features: 19\n",
            "Total features selected: 11\n",
            "MAE before filtering low variance features: 3462.358899620885\n",
            "MAE after filtering low variance features: 3473.768792792215\n"
          ]
        }
      ],
      "source": [
        "import pandas as pd;\n",
        "from sklearn.preprocessing import LabelEncoder\n",
        "data=pd.read_csv('/content/drive/MyDrive/Colab Notebooks/CSE303/Lab-5/melbourne_housing_raw.csv')\n",
        "from sklearn import preprocessing\n",
        "label_encoder = preprocessing.LabelEncoder()\n",
        "for column in data.keys():\n",
        "  if data[column].dtype == 'object':\n",
        "    data[column] = label_encoder.fit_transform(data[column])\n",
        "\n",
        "\n",
        "x=data.drop('Propertycount',axis=1)\n",
        "y=data['Propertycount']\n",
        "print(x.shape)\n",
        "print(y.shape)\n",
        "if y.isnull().any():\n",
        "    y = y.dropna()\n",
        "    x = x.loc[y.index]\n",
        "print(x.shape)\n",
        "print(y.shape)\n",
        "import pandas as pd\n",
        "import numpy as np\n",
        "from sklearn.model_selection import train_test_split\n",
        "from sklearn.linear_model import LinearRegression\n",
        "from sklearn.metrics import mean_absolute_error\n",
        "x_dropped = x.dropna()\n",
        "x_train, x_test, y_train, y_test = train_test_split(x_dropped, y[x_dropped.index], test_size=0.3, random_state=42)\n",
        "variances = np.var(x_train, axis=0)\n",
        "selected_columns = x_train.columns[variances > 4]\n",
        "x_train_filtered = x_train[selected_columns]\n",
        "x_test_filtered = x_test[selected_columns]\n",
        "print(f\"Total features: {x_train.shape[1]}\")\n",
        "print(f\"Total features selected: {x_train_filtered.shape[1]}\")\n",
        "model=LinearRegression()\n",
        "model.fit(x_train, y_train)\n",
        "y_pred = model.predict(x_test)\n",
        "mae_before = mean_absolute_error(y_test, y_pred)\n",
        "print(f\"MAE before filtering low variance features: {mae_before}\")\n",
        "model.fit(x_train_filtered, y_train)\n",
        "y_pred = model.predict(x_test_filtered)\n",
        "mae_after = mean_absolute_error(y_test, y_pred)\n",
        "print(f\"MAE after filtering low variance features: {mae_after}\")\n"
      ]
    }
  ]
}